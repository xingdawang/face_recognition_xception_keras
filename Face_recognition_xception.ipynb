{
 "cells": [
  {
   "cell_type": "markdown",
   "metadata": {},
   "source": [
    "### Extract Image from Video & Detect Face with Harrs Algorithm Functions"
   ]
  },
  {
   "cell_type": "code",
   "execution_count": 1,
   "metadata": {},
   "outputs": [],
   "source": [
    "import pathlib, shutil, os, cv2\n",
    "import numpy as np\n",
    "\n",
    "def extract_image(source, destination, cascadeClassifier, cropped=True):\n",
    "    \"\"\"\n",
    "    Extract image from a given video.\n",
    "\n",
    "    Parameters\n",
    "    ----------\n",
    "    source : str\n",
    "        The path of the source video.\n",
    "    destination : str\n",
    "        Directories where to save all of the extracted images.\n",
    "    cascadeClassifier: str\n",
    "        Cascade Classifier configuration xml file, which used to detect faces.\n",
    "        Official link: https://github.com/opencv/opencv/blob/master/data/haarcascades/haarcascade_frontalface_default.xml\n",
    "    cropped : boolean\n",
    "        Boolean switch to control whether or not to crop the face in the image.\n",
    "\n",
    "    Returns\n",
    "    -------\n",
    "    total_count: int\n",
    "        Total generated images number.\n",
    "    failed_count: int\n",
    "        Failed generated images number.\n",
    "\n",
    "    \"\"\"\n",
    "    vidcap = cv2.VideoCapture(source)\n",
    "\n",
    "    success, image = vidcap.read()\n",
    "    total_count, failed_count = 0, 0\n",
    "    success = True\n",
    "    while success:\n",
    "        file_name = \"frame%d.jpg\" % total_count\n",
    "        file = os.path.join(destination, file_name)\n",
    "        \n",
    "        # whether face detection needed or not\n",
    "        if cropped == True:\n",
    "            portrait_image = detect_crop_face(image, cascadeClassifier)\n",
    "            if portrait_image is None:\n",
    "                failed_count += 1\n",
    "            else:\n",
    "                cv2.imwrite(file, portrait_image)     # save frame as JPEG file\n",
    "        else:\n",
    "            cv2.imwrite(file, raw_portrait_image)\n",
    "        \n",
    "        success, image = vidcap.read() \n",
    "        if total_count % 100 == 0 and total_count > 0:\n",
    "            print(\"Generated: {} photos in {}\".format(total_count, destination))\n",
    "        total_count += 1\n",
    "    return total_count, failed_count\n",
    "\n",
    "\n",
    "def detect_crop_face(image, faceCascade):\n",
    "    \"\"\"\n",
    "    Detect face in image, extract and return the face image.\n",
    "    \n",
    "    Parameters\n",
    "    ----------\n",
    "    image: cv2.imread()\n",
    "        the raw photo which contains the face, read by cv2.imread() funciton\n",
    "    faceCascade: str\n",
    "        Cascade Classifier configuration xml file, which used to detect faces.\n",
    "        Official link: https://github.com/opencv/opencv/blob/master/data/haarcascades/haarcascade_frontalface_default.xml\n",
    "\n",
    "    Returns\n",
    "    -------\n",
    "    : None\n",
    "        No face detected.\n",
    "    image : cv2.imread()\n",
    "        detected face.\n",
    "\n",
    "    \"\"\"\n",
    "    face_cascade = cv2.CascadeClassifier(faceCascade)\n",
    "    gray = cv2.cvtColor(image, cv2.COLOR_BGR2GRAY)\n",
    "    faces = face_cascade.detectMultiScale(gray, 1.3, 5)\n",
    "    if faces == ():\n",
    "        return None\n",
    "    else:\n",
    "        for (x,y,w,h) in faces:\n",
    "            return image[y:y+h, x:x+w]"
   ]
  },
  {
   "cell_type": "markdown",
   "metadata": {},
   "source": [
    "### Setup Training Directory and Sub-structures Functions"
   ]
  },
  {
   "cell_type": "code",
   "execution_count": 2,
   "metadata": {},
   "outputs": [],
   "source": [
    "def create_file_folders(base_dir=None):\n",
    "    \"\"\"\n",
    "        Create base image directory for training datasets.\n",
    "\n",
    "        Parameters\n",
    "        ----------\n",
    "        base_dir: str\n",
    "            base images directory path.\n",
    "            \n",
    "        Returns\n",
    "        train_dir : str\n",
    "            Train directory path.\n",
    "        validation_dir : str\n",
    "            Validation directory path.\n",
    "        test_dir : str\n",
    "            Test directory path.\n",
    "    \"\"\"\n",
    "    # Create root folder\n",
    "    pathlib.Path(base_dir).mkdir(parents=True, exist_ok=True)\n",
    "\n",
    "    # Create train, validation and test directory\n",
    "    train_dir = os.path.join(base_dir, 'train')\n",
    "    pathlib.Path(train_dir).mkdir(parents=True, exist_ok=True)\n",
    "\n",
    "    validation_dir = os.path.join(base_dir, 'validation')\n",
    "    pathlib.Path(validation_dir).mkdir(parents=True, exist_ok=True)\n",
    "\n",
    "    test_dir = os.path.join(base_dir, 'test')\n",
    "    pathlib.Path(test_dir).mkdir(parents=True, exist_ok=True)\n",
    "    print('Root folder has created with subfolders train, test and validation')\n",
    "    return train_dir, validation_dir, test_dir\n",
    "\n",
    "\"\"\"\n",
    "    target_list: people list\n",
    "    target_folers: default to ['train', 'validation', 'test']\n",
    "    base_dir: base directory\n",
    "\"\"\"\n",
    "def create_target_categories(target_list=None, target_folders=['train', 'validation', 'test'], base_dir=None):\n",
    "    \n",
    "    \"\"\"\n",
    "        Create each category folder under the train, validation and test folder.\n",
    "        \n",
    "        Parameters\n",
    "        ----------\n",
    "        target_list : list\n",
    "            Target person list.\n",
    "        target_folers : list\n",
    "            Funciton folders, default to ['train', 'validation', 'test']\n",
    "        base_dir: str\n",
    "            base images directory path.\n",
    "    \"\"\"\n",
    "    for directory in target_folders:\n",
    "        function_dir = os.path.join(base_dir, directory)\n",
    "        for person in target_list:\n",
    "            person = os.path.join(function_dir, person)\n",
    "            pathlib.Path(person).mkdir(parents=True, exist_ok=True)\n",
    "            print(\"Folder\", person, \"has ready created\")"
   ]
  },
  {
   "cell_type": "markdown",
   "metadata": {},
   "source": [
    "### Copy Extracted Images Functions"
   ]
  },
  {
   "cell_type": "code",
   "execution_count": 3,
   "metadata": {},
   "outputs": [],
   "source": [
    "def copy_images(target=None, proportion=None, base_dir=None, source_target_dir=None):\n",
    "    \"\"\"\n",
    "    Copy target images and setup training structure.\n",
    "\n",
    "    Parameters\n",
    "    ----------\n",
    "    target : list\n",
    "        The person list whose photos need to be copied.\n",
    "    proportion : list\n",
    "        Train, validation, test photos number.\n",
    "    base_dir: str\n",
    "        Base directory path.\n",
    "    source_target_dir : str\n",
    "        The target person photos directory, this list should be the same order as target.\n",
    "\n",
    "    \"\"\"\n",
    "    train_number, validation_number, test_number = proportion\n",
    "    for person in target:\n",
    "        photo_number = 0\n",
    "        source_target = source_target_dir[target.index(person)]\n",
    "        for file_name in os.listdir(source_target):\n",
    "            if photo_number < train_number:\n",
    "                _copy_image_process(person, base_dir, 'train', source_target, file_name)\n",
    "            elif photo_number < train_number + validation_number:\n",
    "                _copy_image_process(person, base_dir, 'validation', source_target, file_name)\n",
    "            elif photo_number < train_number + validation_number + test_number:\n",
    "                _copy_image_process(person, base_dir, 'test', source_target, file_name)\n",
    "            photo_number += 1\n",
    "\n",
    "def _copy_image_process(person=None, base_dir=None, category_dir=None, source_target_dir=None, file_name=None):\n",
    "    \"\"\"\n",
    "    Inner function to copy image based on the given proporgation.\n",
    "\n",
    "    Parameters\n",
    "    ----------\n",
    "    person : list\n",
    "        The person list whose photos need to be copied.\n",
    "    base_dir: str\n",
    "        Base directory path.\n",
    "    category_dir : list\n",
    "        Train, validation, test should be provided.\n",
    "    source_target_dir : str\n",
    "        The target person photos directory, this list should be the same order as target.\n",
    "    file_name : str\n",
    "        The file_name which is saved.\n",
    "\n",
    "    \"\"\"\n",
    "    \n",
    "    # target file\n",
    "    destination_function_dir = os.path.join(base_dir, category_dir)\n",
    "    destination_target_dir = os.path.join(destination_function_dir, person)\n",
    "    destination_target_name = os.path.join(destination_target_dir, file_name)\n",
    "    # source file\n",
    "    source_target_name = os.path.join(source_target_dir, file_name)\n",
    "    shutil.copyfile(source_target_name, destination_target_name)"
   ]
  },
  {
   "cell_type": "markdown",
   "metadata": {},
   "source": [
    "### Data Prepreocess 1: Extract images"
   ]
  },
  {
   "cell_type": "code",
   "execution_count": 4,
   "metadata": {},
   "outputs": [
    {
     "name": "stdout",
     "output_type": "stream",
     "text": [
      "Start to generate image for laura\n"
     ]
    },
    {
     "name": "stderr",
     "output_type": "stream",
     "text": [
      "/anaconda3/lib/python3.6/site-packages/ipykernel_launcher.py:77: DeprecationWarning: elementwise comparison failed; this will raise an error in the future.\n"
     ]
    },
    {
     "name": "stdout",
     "output_type": "stream",
     "text": [
      "Generated: 100 photos in /Users/xingdawang/Movies/videos/laura\n",
      "Generated: 200 photos in /Users/xingdawang/Movies/videos/laura\n",
      "Generated: 300 photos in /Users/xingdawang/Movies/videos/laura\n",
      "Generated: 400 photos in /Users/xingdawang/Movies/videos/laura\n",
      "Image genration failure number for laura: 0\n",
      "Total generated image number laura: 424\n",
      "Start to generate image for melanie\n",
      "Generated: 100 photos in /Users/xingdawang/Movies/videos/melanie\n",
      "Generated: 200 photos in /Users/xingdawang/Movies/videos/melanie\n",
      "Generated: 300 photos in /Users/xingdawang/Movies/videos/melanie\n",
      "Image genration failure number for melanie: 0\n",
      "Total generated image number melanie: 388\n",
      "Start to generate image for julie\n",
      "Generated: 100 photos in /Users/xingdawang/Movies/videos/julie\n",
      "Generated: 200 photos in /Users/xingdawang/Movies/videos/julie\n",
      "Generated: 300 photos in /Users/xingdawang/Movies/videos/julie\n",
      "Generated: 400 photos in /Users/xingdawang/Movies/videos/julie\n",
      "Generated: 500 photos in /Users/xingdawang/Movies/videos/julie\n",
      "Image genration failure number for julie: 42\n",
      "Total generated image number julie: 464\n",
      "Start to generate image for mario\n",
      "Generated: 100 photos in /Users/xingdawang/Movies/videos/mario\n",
      "Generated: 200 photos in /Users/xingdawang/Movies/videos/mario\n",
      "Generated: 300 photos in /Users/xingdawang/Movies/videos/mario\n",
      "Generated: 400 photos in /Users/xingdawang/Movies/videos/mario\n",
      "Generated: 500 photos in /Users/xingdawang/Movies/videos/mario\n",
      "Generated: 600 photos in /Users/xingdawang/Movies/videos/mario\n",
      "Image genration failure number for mario: 3\n",
      "Total generated image number mario: 667\n",
      "Start to generate image for xingda\n",
      "Generated: 100 photos in /Users/xingdawang/Movies/videos/xingda\n",
      "Generated: 200 photos in /Users/xingdawang/Movies/videos/xingda\n",
      "Generated: 300 photos in /Users/xingdawang/Movies/videos/xingda\n",
      "Generated: 400 photos in /Users/xingdawang/Movies/videos/xingda\n",
      "Image genration failure number for xingda: 10\n",
      "Total generated image number xingda: 471\n"
     ]
    }
   ],
   "source": [
    "video_directory = os.path.join(os.getcwd(), 'videos')\n",
    "\n",
    "# delete Mac .DS_Store file if exist\n",
    "ds_store = os.path.join(video_directory, \".DS_Store\")\n",
    "if os.path.exists(ds_store):\n",
    "    os.remove(ds_store)\n",
    "\n",
    "# get all videos in the videos directory\n",
    "video_files = [f for f in os.listdir(video_directory) if os.path.isfile(os.path.join(video_directory, f))]\n",
    "\n",
    "cascadeClassifier = 'haarcascade_frontalface_default.xml'\n",
    "\n",
    "# extract photos from videos\n",
    "for video_name in video_files:\n",
    "    source_name = os.path.join(video_directory, video_name)\n",
    "    # extract video name without extension name\n",
    "    person_name = video_name.split('.')[0]\n",
    "    destination_name = os.path.join(video_directory, person_name)\n",
    "    if not os.path.exists(destination_name):\n",
    "        pathlib.Path(destination_name).mkdir(parents=True, exist_ok=True)\n",
    "        print(\"Start to generate image for {}\". format(person_name))\n",
    "        total_count, failed_count = extract_image(\n",
    "            source=source_name,\n",
    "            destination=destination_name,\n",
    "            cascadeClassifier=cascadeClassifier)\n",
    "        print(\"Image genration failure number for {}: {}\".format(person_name, failed_count))\n",
    "        print(\"Total generated image number {}: {}\".format(person_name, total_count - failed_count))\n",
    "    else:\n",
    "        print(\"{} photos have been generated\".format(person_name))"
   ]
  },
  {
   "cell_type": "markdown",
   "metadata": {},
   "source": [
    "### Data Prepreocess 2: Setup Structures"
   ]
  },
  {
   "cell_type": "code",
   "execution_count": 5,
   "metadata": {},
   "outputs": [
    {
     "name": "stdout",
     "output_type": "stream",
     "text": [
      "Root folder has created with subfolders train, test and validation\n",
      "Folder faces/train/laura has ready created\n",
      "Folder faces/train/melanie has ready created\n",
      "Folder faces/train/julie has ready created\n",
      "Folder faces/train/mario has ready created\n",
      "Folder faces/train/xingda has ready created\n",
      "Folder faces/validation/laura has ready created\n",
      "Folder faces/validation/melanie has ready created\n",
      "Folder faces/validation/julie has ready created\n",
      "Folder faces/validation/mario has ready created\n",
      "Folder faces/validation/xingda has ready created\n",
      "Folder faces/test/laura has ready created\n",
      "Folder faces/test/melanie has ready created\n",
      "Folder faces/test/julie has ready created\n",
      "Folder faces/test/mario has ready created\n",
      "Folder faces/test/xingda has ready created\n"
     ]
    }
   ],
   "source": [
    "# setup training structure\n",
    "\n",
    "base_dir=\"faces\"\n",
    "proportion = [200, 100, 100]\n",
    "name_list = [name.split(\".\")[0] for name in video_files]\n",
    "videos_path = [os.path.join(video_directory, name) for name in name_list]\n",
    "\n",
    "train_dir, validation_dir, test_dir = create_file_folders(base_dir)\n",
    "create_target_categories(name_list, base_dir=base_dir)\n",
    "copy_images(name_list, proportion, base_dir, source_target_dir=videos_path)"
   ]
  },
  {
   "cell_type": "markdown",
   "metadata": {},
   "source": [
    "### Training Model"
   ]
  },
  {
   "cell_type": "code",
   "execution_count": 6,
   "metadata": {},
   "outputs": [
    {
     "name": "stderr",
     "output_type": "stream",
     "text": [
      "Using TensorFlow backend.\n"
     ]
    },
    {
     "name": "stdout",
     "output_type": "stream",
     "text": [
      "_________________________________________________________________\n",
      "Layer (type)                 Output Shape              Param #   \n",
      "=================================================================\n",
      "xception (Model)             (None, 5, 5, 2048)        20861480  \n",
      "_________________________________________________________________\n",
      "flatten_1 (Flatten)          (None, 51200)             0         \n",
      "_________________________________________________________________\n",
      "dense_1 (Dense)              (None, 256)               13107456  \n",
      "_________________________________________________________________\n",
      "dense_2 (Dense)              (None, 5)                 1285      \n",
      "=================================================================\n",
      "Total params: 33,970,221\n",
      "Trainable params: 33,915,693\n",
      "Non-trainable params: 54,528\n",
      "_________________________________________________________________\n"
     ]
    }
   ],
   "source": [
    "from keras.models import Sequential\n",
    "from keras.layers import Dense, Dropout, Activation, Flatten\n",
    "from keras.layers import Conv2D, MaxPooling2D, GlobalAveragePooling2D\n",
    "from keras.applications.xception import Xception\n",
    "\n",
    "num_classes = len(name_list)\n",
    "channels = 3\n",
    "height = 150\n",
    "width = 150\n",
    "batch_size = 16\n",
    "\n",
    "conv_base = Xception(\n",
    "    weights='imagenet',\n",
    "    include_top=False,\n",
    "    input_shape=(width, height, channels)\n",
    ")\n",
    "\n",
    "model = Sequential()\n",
    "model.add(conv_base)\n",
    "model.add(Flatten())\n",
    "model.add(Dense(256, activation='relu'))\n",
    "model.add(Dense(num_classes, activation='sigmoid'))\n",
    "\n",
    "# conv_base.summary()\n",
    "model.summary()"
   ]
  },
  {
   "cell_type": "markdown",
   "metadata": {},
   "source": [
    "### Training Process"
   ]
  },
  {
   "cell_type": "code",
   "execution_count": 7,
   "metadata": {},
   "outputs": [
    {
     "name": "stdout",
     "output_type": "stream",
     "text": [
      "Found 1000 images belonging to 5 classes.\n",
      "Found 500 images belonging to 5 classes.\n",
      "Epoch 1/50\n",
      "100/100 [==============================] - 623s 6s/step - loss: 0.5010 - acc: 0.8421 - val_loss: 0.0317 - val_acc: 0.9896\n",
      "Epoch 2/50\n",
      "100/100 [==============================] - 644s 6s/step - loss: 0.0886 - acc: 0.9739 - val_loss: 6.4120e-04 - val_acc: 0.9997\n",
      "Epoch 3/50\n",
      "100/100 [==============================] - 630s 6s/step - loss: 0.0357 - acc: 0.9900 - val_loss: 0.0013 - val_acc: 0.9995\n",
      "Epoch 4/50\n",
      "100/100 [==============================] - 622s 6s/step - loss: 0.0179 - acc: 0.9935 - val_loss: 4.1688e-04 - val_acc: 1.0000\n",
      "Epoch 5/50\n",
      "100/100 [==============================] - 615s 6s/step - loss: 0.0135 - acc: 0.9960 - val_loss: 0.0013 - val_acc: 0.9990\n",
      "Epoch 6/50\n",
      "100/100 [==============================] - 601s 6s/step - loss: 0.0158 - acc: 0.9944 - val_loss: 6.2246e-04 - val_acc: 0.9995\n"
     ]
    }
   ],
   "source": [
    "from keras.preprocessing.image import ImageDataGenerator\n",
    "from keras import optimizers\n",
    "import keras\n",
    "\n",
    "train_dir = os.path.join(base_dir, 'train')\n",
    "validation_dir = os.path.join(base_dir, 'validation')\n",
    "test_dir = os.path.join(base_dir, 'test')\n",
    "\n",
    "train_datagen = ImageDataGenerator(\n",
    "    rescale=1./255,\n",
    "    rotation_range=40,\n",
    "    width_shift_range=0.2,\n",
    "    height_shift_range=0.2,\n",
    "    brightness_range=(0.5, 2.0),\n",
    "#     zca_whitening=True,  # apply ZCA whitening\n",
    "#     zca_epsilon=1e-06,  # epsilon for ZCA whitening, default is 1e-6\n",
    "    shear_range=0.4,\n",
    "    zoom_range=0.6,\n",
    "    horizontal_flip=True,\n",
    "    fill_mode='nearest')\n",
    "\n",
    "test_datagen = ImageDataGenerator(rescale=1./255)\n",
    "\n",
    "train_generator = train_datagen.flow_from_directory(\n",
    "    train_dir,\n",
    "    target_size=(width, height),\n",
    "    batch_size=batch_size,\n",
    "    class_mode='categorical')\n",
    "\n",
    "validation_generator = test_datagen.flow_from_directory(\n",
    "    validation_dir,\n",
    "    target_size=(width, height),\n",
    "    batch_size=batch_size,\n",
    "    class_mode='categorical')\n",
    "\n",
    "callback_list = [\n",
    "    # interrupts training when improving stops\n",
    "    keras.callbacks.EarlyStopping(\n",
    "        # monitor the model's validation accuracy\n",
    "        monitor='acc',\n",
    "        # patience=1 => interrupt training when accuracy has stoped improving for more than 1 epoch (that is 2 epoch)\n",
    "        patience=1),\n",
    "    \n",
    "    # save the current weights after every epoch\n",
    "    keras.callbacks.ModelCheckpoint(\n",
    "        # path to the destination model file\n",
    "        filepath='face_recognition.h5',\n",
    "        # won't overwrite the model unless val_loss has improved.\n",
    "        monitor='val_loss',\n",
    "        save_best_only=True),\n",
    "    \n",
    "    # Use tensorboard to analysis result\n",
    "    keras.callbacks.TensorBoard(\n",
    "        log_dir='graph/train',\n",
    "        histogram_freq=0,\n",
    "        write_graph=True)\n",
    "]\n",
    "\n",
    "model.compile(\n",
    "    loss='binary_crossentropy',\n",
    "#     optimizer=optimizers.RMSprop(lr=1e-4),\n",
    "#     optimizer=optimizers.Adam(amsgrad=True),\n",
    "#     optimizer=optimizers.Adagrad(),\n",
    "    optimizer=optimizers.Adadelta(),\n",
    "    metrics=['acc'])\n",
    "\n",
    "history = model.fit_generator(\n",
    "    train_generator,\n",
    "    steps_per_epoch=100,\n",
    "    epochs=50,\n",
    "    validation_data=validation_generator, \n",
    "    validation_steps=50,\n",
    "    callbacks=callback_list,\n",
    "    workers=-1\n",
    ")"
   ]
  },
  {
   "cell_type": "markdown",
   "metadata": {},
   "source": [
    "### Visualize Accuracy and Loss for Training Epoches"
   ]
  },
  {
   "cell_type": "code",
   "execution_count": 9,
   "metadata": {},
   "outputs": [
    {
     "data": {
      "image/png": "[encoded data removed]",
      "text/plain": [
       "<Figure size 432x288 with 1 Axes>"
      ]
     },
     "metadata": {
      "needs_background": "light"
     },
     "output_type": "display_data"
    },
    {
     "data": {
      "image/png": "[encoded data removed]",
      "text/plain": [
       "<Figure size 432x288 with 1 Axes>"
      ]
     },
     "metadata": {
      "needs_background": "light"
     },
     "output_type": "display_data"
    }
   ],
   "source": [
    "import matplotlib.pyplot as plt\n",
    "\n",
    "acc = history.history['acc']\n",
    "val_acc = history.history['val_acc']\n",
    "loss = history.history['loss']\n",
    "val_loss = history.history['val_loss']\n",
    "epochs = range(1, len(acc) + 1)\n",
    "\n",
    "plt.plot(epochs, acc, 'r', label='Training acc')\n",
    "plt.plot(epochs, val_acc, 'b', label='Validation acc')\n",
    "plt.title('Training and validation accuracy')\n",
    "# plt.ylim(0.95, 1)\n",
    "plt.legend()\n",
    "\n",
    "plt.figure()\n",
    "plt.plot(epochs, loss, 'r', label='Training loss')\n",
    "plt.plot(epochs, val_loss, 'b', label='Validation loss')\n",
    "plt.title('Training and validation loss')\n",
    "plt.legend()\n",
    "plt.show()"
   ]
  },
  {
   "cell_type": "code",
   "execution_count": 10,
   "metadata": {},
   "outputs": [
    {
     "data": {
      "text/plain": [
       "{'julie': 0, 'laura': 1, 'mario': 2, 'melanie': 3, 'xingda': 4}"
      ]
     },
     "execution_count": 10,
     "metadata": {},
     "output_type": "execute_result"
    }
   ],
   "source": [
    "train_generator.class_indices"
   ]
  },
  {
   "cell_type": "markdown",
   "metadata": {},
   "source": [
    "### Save Related Results"
   ]
  },
  {
   "cell_type": "code",
   "execution_count": 11,
   "metadata": {},
   "outputs": [],
   "source": [
    "import json\n",
    "# save model\n",
    "model_json_file = model.to_json()\n",
    "with open(\"face_recognition_model.json\", \"w\") as json_file:\n",
    "    json_file.write(model_json_file)\n",
    "\n",
    "# save name list to a separate file\n",
    "base_url = os.getcwd()\n",
    "result = {\n",
    "    \"base_url\": video_directory,\n",
    "    \"probability\": train_generator.class_indices\n",
    "}\n",
    "with open('name_list.json', 'w') as json_result:\n",
    "    json_result.write(json.dumps(result))"
   ]
  },
  {
   "cell_type": "markdown",
   "metadata": {},
   "source": [
    "### Move related results files to end application"
   ]
  },
  {
   "cell_type": "code",
   "execution_count": 14,
   "metadata": {},
   "outputs": [
    {
     "data": {
      "text/plain": [
       "'end_application/xception_5_424_150x150.json'"
      ]
     },
     "execution_count": 14,
     "metadata": {},
     "output_type": "execute_result"
    }
   ],
   "source": [
    "# Copy name_list.json file\n",
    "shutil.copyfile('name_list.json', 'end_application/name_list.json')\n",
    "\n",
    "# Copy and rename .h5 file\n",
    "shutil.copyfile('face_recognition.h5', 'end_application/xception_{}_{}_{}x{}.h5'.format(num_classes, 424, width, height))\n",
    "\n",
    "# Copy and rename json file\n",
    "shutil.copyfile('face_recognition_model.json', 'end_application/xception_{}_{}_{}x{}.json'.format(num_classes, 424, width, height))"
   ]
  },
  {
   "cell_type": "code",
   "execution_count": null,
   "metadata": {},
   "outputs": [],
   "source": []
  }
 ],
 "metadata": {
  "kernelspec": {
   "display_name": "Python 3",
   "language": "python",
   "name": "python3"
  },
  "language_info": {
   "codemirror_mode": {
    "name": "ipython",
    "version": 3
   },
   "file_extension": ".py",
   "mimetype": "text/x-python",
   "name": "python",
   "nbconvert_exporter": "python",
   "pygments_lexer": "ipython3",
   "version": "3.6.8"
  }
 },
 "nbformat": 4,
 "nbformat_minor": 2
}
